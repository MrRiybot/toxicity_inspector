{
 "cells": [
  {
   "cell_type": "code",
   "execution_count": null,
   "id": "f3e73c14",
   "metadata": {},
   "outputs": [],
   "source": [
    "import toxicity_inspector"
   ]
  },
  {
   "cell_type": "code",
   "execution_count": 2,
   "id": "1284ff97",
   "metadata": {},
   "outputs": [],
   "source": [
    "model = toxicity_inspector.Toxicity_model()"
   ]
  },
  {
   "cell_type": "code",
   "execution_count": 3,
   "id": "cfdccbfb",
   "metadata": {},
   "outputs": [
    {
     "name": "stdout",
     "output_type": "stream",
     "text": [
      "1/1 [==============================] - 1s 1s/step\n",
      "text is arabic\n",
      "text is not TOXIC\n"
     ]
    }
   ],
   "source": [
    "model.display_prediction(\"هذه تجربة\")"
   ]
  },
  {
   "cell_type": "code",
   "execution_count": 5,
   "id": "a1248101",
   "metadata": {},
   "outputs": [
    {
     "name": "stdout",
     "output_type": "stream",
     "text": [
      "1/1 [==============================] - 0s 181ms/step\n",
      "text is arabic\n",
      "text is not TOXIC\n"
     ]
    }
   ],
   "source": [
    "model.display_prediction(\"بجد يا باسم كلنا مفتقدينك ربنا يرجعك بالسلامه\")"
   ]
  },
  {
   "cell_type": "code",
   "execution_count": 6,
   "id": "6efaee0e",
   "metadata": {},
   "outputs": [
    {
     "name": "stdout",
     "output_type": "stream",
     "text": [
      "1/1 [==============================] - 0s 139ms/step\n",
      "text is arabic\n",
      "text is TOXIC\n"
     ]
    }
   ],
   "source": [
    "model.display_prediction(\"لو انت ابن راجل  انزل مصر\")"
   ]
  },
  {
   "cell_type": "code",
   "execution_count": 7,
   "id": "b0e464f9",
   "metadata": {},
   "outputs": [
    {
     "name": "stdout",
     "output_type": "stream",
     "text": [
      "1/1 [==============================] - 1s 1s/step\n",
      "text is english\n",
      "text is not TOXIC\n"
     ]
    }
   ],
   "source": [
    "model.display_prediction(\"Jews are not a race because you can only get it from your mother.\")"
   ]
  },
  {
   "cell_type": "code",
   "execution_count": 8,
   "id": "b5435809",
   "metadata": {},
   "outputs": [
    {
     "name": "stdout",
     "output_type": "stream",
     "text": [
      "1/1 [==============================] - 0s 238ms/step\n",
      "text is english\n",
      "text is TOXIC\n"
     ]
    }
   ],
   "source": [
    "model.display_prediction(\"I WILL BURN YOU TO HELL IF YOU REVOKE MY TALK PAGE ACCESS!!!!!!!!!!!!!\")"
   ]
  }
 ],
 "metadata": {
  "kernelspec": {
   "display_name": "projects",
   "language": "python",
   "name": "myenv"
  },
  "language_info": {
   "codemirror_mode": {
    "name": "ipython",
    "version": 3
   },
   "file_extension": ".py",
   "mimetype": "text/x-python",
   "name": "python",
   "nbconvert_exporter": "python",
   "pygments_lexer": "ipython3",
   "version": "3.9.12"
  }
 },
 "nbformat": 4,
 "nbformat_minor": 5
}
